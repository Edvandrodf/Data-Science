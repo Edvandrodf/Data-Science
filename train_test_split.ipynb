{
  "nbformat": 4,
  "nbformat_minor": 0,
  "metadata": {
    "colab": {
      "provenance": [],
      "authorship_tag": "ABX9TyPpt9UeDrdq3jyXD0mqzYHV",
      "include_colab_link": true
    },
    "kernelspec": {
      "name": "python3",
      "display_name": "Python 3"
    },
    "language_info": {
      "name": "python"
    }
  },
  "cells": [
    {
      "cell_type": "markdown",
      "metadata": {
        "id": "view-in-github",
        "colab_type": "text"
      },
      "source": [
        "<a href=\"https://colab.research.google.com/github/Edvandrodf/Data-Science/blob/main/train_test_split.ipynb\" target=\"_parent\"><img src=\"https://colab.research.google.com/assets/colab-badge.svg\" alt=\"Open In Colab\"/></a>"
      ]
    },
    {
      "cell_type": "markdown",
      "source": [
        "# **Usando o Train_test_split sem alterar os valores todas as vezes que executar a célula**\n",
        "\n",
        "\n",
        "\n"
      ],
      "metadata": {
        "id": "rHqWAc5kKAoi"
      }
    },
    {
      "cell_type": "code",
      "source": [
        "#import package numpy\n",
        "import numpy as np"
      ],
      "metadata": {
        "id": "bwSe_nb-K0lF"
      },
      "execution_count": 3,
      "outputs": []
    },
    {
      "cell_type": "code",
      "execution_count": 4,
      "metadata": {
        "id": "ebMnxdoBJ-jR"
      },
      "outputs": [],
      "source": [
        "#Split arrays or matrices into random train and test subset\n",
        "from sklearn.model_selection import train_test_split "
      ]
    },
    {
      "cell_type": "code",
      "source": [
        "X_falso = np.arange(10)\n",
        "X_falso"
      ],
      "metadata": {
        "colab": {
          "base_uri": "https://localhost:8080/"
        },
        "id": "IoFPRsoqJ_Sh",
        "outputId": "6416b9f8-a3a6-47dc-ee23-5c453cb67b42"
      },
      "execution_count": 5,
      "outputs": [
        {
          "output_type": "execute_result",
          "data": {
            "text/plain": [
              "array([0, 1, 2, 3, 4, 5, 6, 7, 8, 9])"
            ]
          },
          "metadata": {},
          "execution_count": 5
        }
      ]
    },
    {
      "cell_type": "markdown",
      "source": [
        "*Sem aplicar seed os dados irão alterar quando executar a célula.*"
      ],
      "metadata": {
        "id": "x1wPWkATLh7M"
      }
    },
    {
      "cell_type": "code",
      "source": [
        "from IPython.testing import test\n",
        "train_test_split(X_falso,test_size =0.5)"
      ],
      "metadata": {
        "colab": {
          "base_uri": "https://localhost:8080/"
        },
        "id": "gcm-Dm3cJ_cS",
        "outputId": "d6ea1e59-4355-44b3-b463-d67b1c0403cd"
      },
      "execution_count": 14,
      "outputs": [
        {
          "output_type": "execute_result",
          "data": {
            "text/plain": [
              "[array([6, 3, 7, 4, 0]), array([1, 8, 9, 5, 2])]"
            ]
          },
          "metadata": {},
          "execution_count": 14
        }
      ]
    },
    {
      "cell_type": "markdown",
      "source": [
        "***Aplicando o seed(0) os dados não alteram quando executar a celula***"
      ],
      "metadata": {
        "id": "O_ZBda26MaLf"
      }
    },
    {
      "cell_type": "code",
      "source": [
        "from IPython.testing import test\n",
        "np.random.seed(0)\n",
        "train_test_split(X_falso,test_size =0.5)"
      ],
      "metadata": {
        "colab": {
          "base_uri": "https://localhost:8080/"
        },
        "id": "5lLTJa-tJ_im",
        "outputId": "0927e462-12f9-465c-a299-23cbf7c1247e"
      },
      "execution_count": 29,
      "outputs": [
        {
          "output_type": "execute_result",
          "data": {
            "text/plain": [
              "[array([6, 7, 3, 0, 5]), array([2, 8, 4, 9, 1])]"
            ]
          },
          "metadata": {},
          "execution_count": 29
        }
      ]
    }
  ]
}